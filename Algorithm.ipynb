{
 "cells": [
  {
   "cell_type": "markdown",
   "metadata": {},
   "source": [
    "# 毕设说明书\n",
    "---"
   ]
  },
  {
   "cell_type": "markdown",
   "metadata": {},
   "source": [
    "## 地图匹配，将充电需求对应在路网图中"
   ]
  },
  {
   "cell_type": "markdown",
   "metadata": {},
   "source": [
    "1.将充电需求对应在路网图中，路网图为二维平面，充电需求由车辆产生，根据充电需求产生的地址将其对应到路网图中的点，所述点称为需求点。\n",
    "所述需求点从城市中车辆停留时间较长的位置产生，包括以下信息：充电需求产生的地址、充电需求产生的时间、预估的充电时长和车辆剩余行驶里程。"
   ]
  },
  {
   "cell_type": "code",
   "execution_count": null,
   "metadata": {},
   "outputs": [],
   "source": [
    "'''\n",
    "#1 —— 一次性执行\n",
    "#t —— 测试单元，可删除\n",
    "'''"
   ]
  },
  {
   "cell_type": "code",
   "execution_count": 1,
   "metadata": {},
   "outputs": [],
   "source": [
    "import numpy as np\n",
    "import pandas as pd\n",
    "from matplotlib import pyplot as plt\n",
    "from matplotlib.colors import LogNorm\n",
    "from matplotlib.pyplot import MultipleLocator\n",
    "from mpl_toolkits.axes_grid1 import make_axes_locatable\n",
    "import random\n",
    "from scipy.stats import truncnorm\n",
    "import math"
   ]
  },
  {
   "cell_type": "markdown",
   "metadata": {},
   "source": [
    "随机地图数据（包括地图块类型：小区、办公区、商贸区），地图设置为$1000\\times1000$大小，其中住宅区占比：30%，办公区占比：10%,商贸区占比：5%\n",
    "\n",
    "0-没有需求区域，1-小区，2-办公区，3-商贸区"
   ]
  },
  {
   "cell_type": "code",
   "execution_count": 2,
   "metadata": {},
   "outputs": [],
   "source": [
    "# 常量定义\n",
    "map_size = 100 #地图大小\n",
    "map_step = 20  #划分地图"
   ]
  },
  {
   "cell_type": "code",
   "execution_count": 50,
   "metadata": {},
   "outputs": [
    {
     "name": "stdout",
     "output_type": "stream",
     "text": [
      "19\n",
      "19\n"
     ]
    }
   ],
   "source": [
    "#1 使用随机直线划分格子\n",
    "map_roll = np.sort(np.unique(np.random.randint(1, map_size, map_step-1)))#划分地图区域\n",
    "map_cul = np.sort(np.unique(np.random.randint(1, map_size, map_step-1)))#划分地图区域\n",
    "print(map_roll.size)\n",
    "print(map_cul.size)"
   ]
  },
  {
   "cell_type": "code",
   "execution_count": 51,
   "metadata": {},
   "outputs": [],
   "source": [
    "#1 写入文件 \n",
    "np.savetxt('data/map_roll.txt', map_roll, fmt='%d', delimiter=',')\n",
    "np.savetxt('data/map_cul.txt', map_cul, fmt='%d', delimiter=',')"
   ]
  },
  {
   "cell_type": "code",
   "execution_count": 4,
   "metadata": {},
   "outputs": [],
   "source": [
    "# 从文件中读取\n",
    "map_roll = np.loadtxt('data/map_roll.txt', delimiter=',', dtype=int)\n",
    "map_roll = np.append(map_roll, map_size)\n",
    "#map_roll = np.insert(map_roll, 0, 0)\n",
    "map_cul = np.loadtxt('data/map_cul.txt', delimiter=',', dtype=int)\n",
    "#map_cul = np.insert(map_cul, 0, 0)\n",
    "map_cul = np.append(map_cul, map_size)"
   ]
  },
  {
   "cell_type": "code",
   "execution_count": 15,
   "metadata": {},
   "outputs": [
    {
     "name": "stdout",
     "output_type": "stream",
     "text": [
      "[  3  29  32  34  38  43  46  57  60  61  72  80  82  83  84  87  93  94\n",
      "  98 100]\n"
     ]
    }
   ],
   "source": [
    "#t\n",
    "print(map_cul)"
   ]
  },
  {
   "cell_type": "code",
   "execution_count": 183,
   "metadata": {},
   "outputs": [],
   "source": [
    "#1 随机区域\n",
    "map_rate = [0.55, 0.3, 0.1, 0.05]\n",
    "map_x = np.arange(4)\n",
    "map_distribution = np.random.choice(a=map_x, size=map_step**2, replace=True, p=map_rate)"
   ]
  },
  {
   "cell_type": "code",
   "execution_count": 186,
   "metadata": {},
   "outputs": [],
   "source": [
    "#1 将区域信息写入文件\n",
    "np.savetxt('data/map_distribution.txt', map_distribution, fmt='%d', delimiter=',')"
   ]
  },
  {
   "cell_type": "code",
   "execution_count": 5,
   "metadata": {},
   "outputs": [],
   "source": [
    "# 读取区域\n",
    "map_distribution = np.loadtxt('data/map_distribution.txt', delimiter=',', dtype=int)"
   ]
  },
  {
   "cell_type": "code",
   "execution_count": 188,
   "metadata": {},
   "outputs": [
    {
     "name": "stdout",
     "output_type": "stream",
     "text": [
      "0.5425\n",
      "0.3075\n",
      "0.1075\n",
      "0.0425\n"
     ]
    }
   ],
   "source": [
    "#t 看比例\n",
    "print(sum(map_distribution==0)/map_step**2)\n",
    "print(sum(map_distribution==1)/map_step**2)\n",
    "print(sum(map_distribution==2)/map_step**2)\n",
    "print(sum(map_distribution==3)/map_step**2)"
   ]
  },
  {
   "cell_type": "code",
   "execution_count": 184,
   "metadata": {},
   "outputs": [],
   "source": [
    "#1 将地图赋值     \n",
    "\n",
    "mmap = np.ones((map_size,map_size), dtype=np.int) #地图\n",
    "\n",
    "x_b = 0\n",
    "y_b = 0\n",
    "it_mapd = 0\n",
    "for y_e in map_cul:\n",
    "    for x_e in map_roll:\n",
    "        mmap[x_b:x_e, y_b:y_e] *= map_distribution[it_mapd]\n",
    "        x_b = x_e\n",
    "        it_mapd += 1\n",
    "    y_b = y_e"
   ]
  },
  {
   "cell_type": "code",
   "execution_count": 189,
   "metadata": {},
   "outputs": [],
   "source": [
    "#1 将地图存入文件\n",
    "np.savetxt('data/mmap.txt', mmap, fmt='%d', delimiter=',')"
   ]
  },
  {
   "cell_type": "code",
   "execution_count": 6,
   "metadata": {},
   "outputs": [],
   "source": [
    "# 读取地图\n",
    "mmap = np.loadtxt('data/mmap.txt', delimiter=',', dtype=int)"
   ]
  },
  {
   "cell_type": "code",
   "execution_count": 191,
   "metadata": {
    "scrolled": false
   },
   "outputs": [
    {
     "name": "stdout",
     "output_type": "stream",
     "text": [
      "0.5964\n",
      "0.2666\n",
      "0.1032\n",
      "0.0338\n"
     ]
    }
   ],
   "source": [
    "#t 查看每种区域的地图占比\n",
    "print(sum(sum(mmap==0))/map_size**2)\n",
    "print(sum(sum(mmap==1))/map_size**2)\n",
    "print(sum(sum(mmap==2))/map_size**2)\n",
    "print(sum(sum(mmap==3))/map_size**2)"
   ]
  },
  {
   "cell_type": "code",
   "execution_count": 192,
   "metadata": {
    "scrolled": false
   },
   "outputs": [
    {
     "data": {
      "image/png": "[encoded data removed]",
      "text/plain": [
       "<matplotlib.figure.Figure at 0x7f9b7ed8c860>"
      ]
     },
     "metadata": {},
     "output_type": "display_data"
    }
   ],
   "source": [
    "#t 将地图画出来\n",
    "'''\n",
    "0-其他区域-深深绿\n",
    "1-住宅区-深绿\n",
    "2-办公区-绿色\n",
    "3-商贸区-黄色\n",
    "'''\n",
    "plt.figure(figsize=(15,15))\n",
    "plt.pcolormesh(mmap,edgecolors='face')\n",
    "#把x轴的刻度间隔设置为1，并存在变量里\n",
    "x_major_locator=MultipleLocator(10)\n",
    "#把y轴的刻度间隔设置为10，并存在变量里\n",
    "y_major_locator=MultipleLocator(10)\n",
    "#ax为两条坐标轴的实例\n",
    "ax=plt.gca()\n",
    "#把x轴的主刻度设置为50的倍数\n",
    "ax.xaxis.set_major_locator(x_major_locator)\n",
    "#把y轴的主刻度设置为50的倍数\n",
    "ax.yaxis.set_major_locator(y_major_locator)\n",
    "plt.show()"
   ]
  },
  {
   "cell_type": "markdown",
   "metadata": {},
   "source": [
    "随机车辆，地图类型对需求产生的时间要求：\n",
    "1. 住宅区：车辆需求点产生时间多半在中午和夜晚，时间17:00-21:00~7:00-9:00和11:00-12:00~13:30-14:00\n",
    "2. 办公区：车辆需求点产生时间多半在上午和下午，时间7:00-9:00~11:00-12:00和13:30-14:00~17:00-21:00\n",
    "3. 商贸区：时间8:00~21:00，时间段多数在2小时以上\n",
    "4. 其他区域：时间不固定\n",
    "\n",
    "随机的变量：充电需求产生的地址、充电需求产生的时间、预估的充电时长和车辆剩余行驶里程\n",
    "\n",
    "随机车辆4000，其中2500遵循上班时间，1000遵循购物娱乐时间，500遵循在家时间"
   ]
  },
  {
   "cell_type": "code",
   "execution_count": 193,
   "metadata": {
    "scrolled": true
   },
   "outputs": [],
   "source": [
    "#1 随机时间\n",
    "'''\n",
    "car_cate\n",
    "0-上班时间\n",
    "时间：住宅区+办公区\n",
    "地点：住宅+办公\n",
    "\n",
    "1-娱乐时间\n",
    "时间：住宅区+商贸区\n",
    "地点：住宅+商贸\n",
    "\n",
    "2-在家时间\n",
    "时间：全天\n",
    "地点：住宅\n",
    "'''\n",
    "#截断正态分布函数\n",
    "def get_truncated_normal(mean=0, sd=1, low=0, upp=10):\n",
    "    return truncnorm(\n",
    "        (low - mean) / sd, (upp - mean) / sd, loc=mean, scale=sd)\n",
    "\n",
    "car_num_0 = 2500\n",
    "car_num_1 = 1000\n",
    "car_num_2 = 500\n",
    "\n",
    "# 上班时间\n",
    "def cars_0():\n",
    "    # 随机时间\n",
    "    time_point_1_normal = get_truncated_normal(8.5, 1.5, 5, 10)\n",
    "    time_point_1 = time_point_1_normal.rvs(car_num_0).reshape(car_num_0, 1)\n",
    "    time_point_2_normal = get_truncated_normal(11.5, 0.5, 11, 12)\n",
    "    time_point_2 = time_point_2_normal.rvs(car_num_0).reshape(car_num_0, 1)\n",
    "    time_point_3_normal = get_truncated_normal(14, 0.5, 13, 15)\n",
    "    time_point_3 = time_point_3_normal.rvs(car_num_0).reshape(car_num_0, 1)\n",
    "    time_point_4_normal = get_truncated_normal(19, 1.5, 17, 21)\n",
    "    time_point_4 = time_point_4_normal.rvs(car_num_0).reshape(car_num_0, 1)\n",
    "    # 车辆id，为列向量\n",
    "    car_id = np.arange(0,car_num_0).reshape(car_num_0, 1)\n",
    "    # 随机地址\n",
    "    addr_1_index = np.random.choice(a=np.argwhere(mmap==1).shape[0], size=car_num_0, replace=True)#住宅地址\n",
    "    addr_1 = [np.argwhere(mmap==1)[i] for i in addr_1_index]\n",
    "    addr_2_index = np.random.choice(a=np.argwhere(mmap==2).shape[0], size=car_num_0, replace=True)#办公地址\n",
    "    addr_2 = [np.argwhere(mmap==2)[i] for i in addr_2_index]\n",
    "    # 随机充电时长和剩余行驶里程(充电时长最长为3h, 行驶里程最长为500km)\n",
    "    charge_time_normal = get_truncated_normal(1.5, 0.5, 0, 3)\n",
    "    charge_time = charge_time_normal.rvs(car_num_0*4).reshape(car_num_0*4,1)\n",
    "    remain_licheng = (3-charge_time)/3*500\n",
    "    # 形成车辆需求\n",
    "    \n",
    "    car_id_con = np.concatenate((np.concatenate((car_id, car_id)), \n",
    "                                 np.concatenate((car_id, car_id))))\n",
    "    time_point_con = np.concatenate((np.concatenate((time_point_1, time_point_2)), \n",
    "                                     np.concatenate((time_point_3, time_point_4))))\n",
    "    addr_con = np.concatenate((np.concatenate((addr_2, addr_1)),\n",
    "                               np.concatenate((addr_2, addr_1))))\n",
    "    df_addr_con = pd.DataFrame(addr_con, columns = ['x','y'])\n",
    "    #car_0_request = np.concatenate((np.concatenate((car_id_con, time_point_con), axis=1), \n",
    "    #                                np.concatenate((addr_con, charge_time), axis=1)), axis=1)\n",
    "    #car_0_request = np.concatenate((car_0_request, remain_licheng), axis=1)\n",
    "    # np.savetxt('data/car_0_request_test.txt', car_0_request, fmt='%f', delimiter=',')  \n",
    "    df_car_0_request_read = pd.DataFrame(car_id_con, columns = ['车辆id'])\n",
    "    df_car_0_request_read['充电需求产生的时间'] = time_point_con\n",
    "    df_car_0_request_read['充电需求产生的地址'] = df_addr_con.apply(lambda r: tuple(r), axis=1).apply(np.array)\n",
    "    df_car_0_request_read['预估充电时长'] = charge_time\n",
    "    df_car_0_request_read['车辆剩余行驶里程'] = remain_licheng\n",
    "    df_car_0_request_read.to_csv('data/df_car_0_request_read.csv')\n",
    "    \n",
    "    df_car_0_request = pd.DataFrame(car_id_con, columns = ['car_id'])\n",
    "    df_car_0_request['time_point'] = time_point_con\n",
    "    df_car_0_request['addr'] = df_addr_con.apply(lambda r: tuple(r), axis=1).apply(np.array)\n",
    "    df_car_0_request['charge_time'] = charge_time\n",
    "    df_car_0_request['remain_licheng'] = remain_licheng\n",
    "    df_car_0_request.to_csv('data/df_car_0_request.csv')\n",
    "    return df_car_0_request\n",
    "\n",
    "# 娱乐时间\n",
    "def cars_1():\n",
    "    # 随机时间\n",
    "    time_point_1_normal = get_truncated_normal(11, 1, 9, 13) # 去商场的时间点1\n",
    "    time_point_1 = time_point_1_normal.rvs(int(car_num_1/2)).reshape(int(car_num_1/2), 1)\n",
    "    time_point_2_normal = get_truncated_normal(15, 2, 13, 19) # 去商场的时间点2\n",
    "    time_point_2 = time_point_2_normal.rvs(int(car_num_1/2)).reshape(int(car_num_1/2), 1)\n",
    "    time_last_normal = get_truncated_normal(4, 1.5, 2, 11)\n",
    "    time_last = time_last_normal.rvs(car_num_1).reshape(car_num_1, 1)\n",
    "    time_point_temp = np.concatenate((np.concatenate((time_point_1, time_point_2)), time_last), axis=1)\n",
    "    time_point_3 = np.zeros((car_num_1, 1))  #回住宅的时间\n",
    "    tp_i = 0\n",
    "    for tpt in time_point_temp: # 24小时制\n",
    "        time_p = tpt[0]+tpt[1]\n",
    "        if time_p > 24:\n",
    "            time_p -= 24\n",
    "        time_point_3[tp_i] = time_p\n",
    "        tp_i += 1\n",
    "    time_point_con = np.concatenate((np.concatenate((time_point_1, time_point_2)), time_point_3))\n",
    "    # 车辆id，为列向量\n",
    "    car_id = np.arange(car_num_0, car_num_0+car_num_1).reshape(car_num_1, 1)\n",
    "    # 随机地址\n",
    "    addr_1_index = np.random.choice(a=np.argwhere(mmap==1).shape[0], size=car_num_1, replace=False)#住宅地址\n",
    "    addr_1 = [np.argwhere(mmap==1)[i] for i in addr_1_index]\n",
    "    addr_3_index = np.random.choice(a=np.argwhere(mmap==3).shape[0], size=car_num_1, replace=True)#商贸地址\n",
    "    addr_3 = [np.argwhere(mmap==3)[i] for i in addr_3_index]\n",
    "    # 随机充电时长和剩余行驶里程(充电时长最长为3h, 行驶里程最长为500km)\n",
    "    charge_time_normal = get_truncated_normal(1.5, 0.5, 0, 3)\n",
    "    charge_time = charge_time_normal.rvs(car_num_1*2).reshape(car_num_1*2,1)\n",
    "    remain_licheng = (3-charge_time)/3*500\n",
    "    # 形成车辆需求\n",
    "    car_id_con = np.concatenate((car_id, car_id))\n",
    "    addr_con = np.concatenate((addr_3, addr_1))\n",
    "    df_addr_con = pd.DataFrame(addr_con, columns = ['x','y'])\n",
    "    #car_1_request = np.concatenate((np.concatenate((car_id_con, time_point_con), axis=1), \n",
    "    #                                np.concatenate((addr_con, charge_time), axis=1)), axis=1)\n",
    "    #car_1_request = np.concatenate((car_1_request, remain_licheng), axis=1)\n",
    "    # np.savetxt('data/car_1_request.txt', car_1_request, fmt='%f', delimiter=',')\n",
    "    df_car_1_request_read = pd.DataFrame(car_id_con, columns = ['车辆id'])\n",
    "    df_car_1_request_read['充电需求产生的时间'] = time_point_con\n",
    "    df_car_1_request_read['充电需求产生的地址'] = df_addr_con.apply(lambda r: tuple(r), axis=1).apply(np.array)\n",
    "    df_car_1_request_read['预估充电时长'] = charge_time\n",
    "    df_car_1_request_read['车辆剩余行驶里程'] = remain_licheng\n",
    "    df_car_1_request_read.to_csv('data/df_car_1_request_read.csv')\n",
    "    \n",
    "    df_car_1_request = pd.DataFrame(car_id_con, columns = ['car_id'])\n",
    "    df_car_1_request['time_point'] = time_point_con\n",
    "    df_car_1_request['addr'] = df_addr_con.apply(lambda r: tuple(r), axis=1).apply(np.array)\n",
    "    df_car_1_request['charge_time'] = charge_time\n",
    "    df_car_1_request['remain_licheng'] = remain_licheng\n",
    "    df_car_1_request.to_csv('data/df_car_1_request.csv')\n",
    "    return df_car_1_request\n",
    "\n",
    "\n",
    "# 在家时间\n",
    "def cars_2():\n",
    "    # 随机时间\n",
    "    time_point_normal = get_truncated_normal(12, 10, 0, 24)\n",
    "    time_point = time_point_normal.rvs(car_num_2).reshape(car_num_2, 1)\n",
    "    # 车辆id，为列向量\n",
    "    car_id = np.arange(car_num_0+car_num_1,car_num_0+car_num_1+car_num_2).reshape(car_num_2, 1)\n",
    "    # 随机地址\n",
    "    addr_index = np.random.choice(a=np.argwhere(mmap==1).shape[0], size=car_num_2, replace=True)#住宅地址\n",
    "    addr = [np.argwhere(mmap==1)[i] for i in addr_index]\n",
    "    # 随机充电时长和剩余行驶里程(充电时长最长为3h, 行驶里程最长为500km)\n",
    "    charge_time_normal = get_truncated_normal(1.5, 0.5, 0, 3)\n",
    "    charge_time = charge_time_normal.rvs(car_num_2).reshape(car_num_2,1)\n",
    "    remain_licheng = (3-charge_time)/3*500\n",
    "    # 形成车辆需求\n",
    "    df_addr_con = pd.DataFrame(addr, columns = ['x','y'])\n",
    "    df_car_2_request_read = pd.DataFrame(car_id, columns = ['车辆id'])\n",
    "    df_car_2_request_read['充电需求产生的时间'] = time_point\n",
    "    df_car_2_request_read['充电需求产生的地址'] = df_addr_con.apply(lambda r: tuple(r), axis=1).apply(np.array)\n",
    "    df_car_2_request_read['预估充电时长'] = charge_time\n",
    "    df_car_2_request_read['车辆剩余行驶里程'] = remain_licheng\n",
    "    df_car_2_request_read.to_csv('data/df_car_2_request_read.csv')\n",
    "    \n",
    "    df_car_2_request = pd.DataFrame(car_id, columns = ['car_id'])\n",
    "    df_car_2_request['time_point'] = time_point\n",
    "    df_car_2_request['addr'] = df_addr_con.apply(lambda r: tuple(r), axis=1).apply(np.array)\n",
    "    df_car_2_request['charge_time'] = charge_time\n",
    "    df_car_2_request['remain_licheng'] = remain_licheng\n",
    "    df_car_2_request.to_csv('data/df_car_2_request.csv')\n",
    "    return df_car_2_request"
   ]
  },
  {
   "cell_type": "code",
   "execution_count": 194,
   "metadata": {},
   "outputs": [],
   "source": [
    "#1 写入文件\n",
    "df_car_request = cars_0().append(cars_1()).append(cars_2())\n",
    "df_car_request.to_csv('data/df_car_request.csv')"
   ]
  },
  {
   "cell_type": "code",
   "execution_count": 3,
   "metadata": {
    "scrolled": true
   },
   "outputs": [],
   "source": [
    "# 读取充电需求数据\n",
    "df_car_request = pd.read_csv('data/df_car_request.csv', engine='python')\n",
    "df_car_request.drop(df_car_request.columns[0], axis=1, inplace=True) # 删除第一列"
   ]
  },
  {
   "cell_type": "markdown",
   "metadata": {},
   "source": [
    "## 预测城市充电需求，确定充电热区"
   ]
  },
  {
   "cell_type": "markdown",
   "metadata": {},
   "source": [
    "该步骤是使用基于区域充电需求量的聚类算法实现的，具体步骤如下：\n",
    "1. 数据清洗，由于会出现多个充电需求对应到同一需求点的情况，需要统计每个充电需求中预估的充电时长，之后计算每个需求点的总预估的充电时长作为该需求点的需求分数，公式如下：\n",
    "$$SC_p=\\sum_{i=1}^{n}ST_i$$\n",
    "其中$SC_p$表示需求点$p$的需求分数，$ST_i$表示对应到需求点$p$的第$i$个充电需求中的预估充电时长\n",
    "2. 删除需求分数过低的需求点，根据预先设置的阈值，删除需求分数低于阈值的需求点；\n",
    "3. 使用K-means算法将需求点进行聚类，得到不同密度的簇，即充电热区，其代表着有一定充电需求的区域。\n",
    "\n",
    "其中，步骤3中聚类个数K使用肘部法则来确定，将各个簇内的样本点到所在簇质心的距离平方和（SSE）作为性能度量，越小则说明各个类簇越收敛。但不是SSE越小越好，肘部法则就是在类簇数量与SSE之间寻求一个平衡点，具体步骤如下：\n",
    "\n",
    "(1)指定一个i值，即可能的最大类簇数；\n",
    "\n",
    "(2) 然后将类簇数从1开始递增，一直到$i$，计算出$i$个$SSE$，公式如下：\n",
    "$$SSE=\\sum_{k=1}^{k}\\sum_{i\\epsilon C_k}^{i}\\lvert x_i-\\mu k \\rvert$$\n",
    "其中，$\\mu k$是第k个质心的位置\n",
    "\n",
    "(3)通过画出K-SSE曲线，找出下降途中的拐点，即可较好的确定K值。"
   ]
  },
  {
   "cell_type": "code",
   "execution_count": 17,
   "metadata": {},
   "outputs": [],
   "source": [
    "#1 1.数据清洗\n",
    "def str_to_np(str): #将字符串转换为numpy数组\n",
    "    str_temp = str[1:-1].strip().split(' ')\n",
    "    if len(str_temp) > 2:\n",
    "        str_temp[1] = str_temp[2]\n",
    "        del str_temp[2]\n",
    "    str_temp[0] = int(str_temp[0])\n",
    "    str_temp[1] = int(str_temp[1])\n",
    "    str_temp = np.asarray(str_temp)\n",
    "    return str_temp\n",
    "\n",
    "P_set = set(df_car_request['addr']) #需求点集合(dtype='object')\n",
    "P_np = np.asarray([str_to_np(dfp) for dfp in P_set]) #需求点集合(dtype='np.array')\n",
    "SCP_np = np.zeros(len(P_set)) #需求点对应的需求分数\n",
    "it_scp = 0 #迭代数\n",
    "for p in P_set: #计算需求分数\n",
    "    it_df_p = df_car_request[df_car_request['addr'] == p]\n",
    "    scp = it_df_p['charge_time'].sum()\n",
    "    SCP_np[it_scp] = scp\n",
    "    it_scp += 1\n",
    "    \n",
    "df_p_np = pd.DataFrame(P_np, columns = ['x','y'])\n",
    "\n",
    "df_scp = pd.DataFrame(df_p_np.apply(lambda r: tuple(r), axis=1).apply(np.array), columns=['addr'])\n",
    "SCP_np.reshape(len(P_set), 1)\n",
    "df_scp['scp'] = SCP_np\n",
    "\n",
    "# 2.删除需求分数过低的需求点（小于1的）\n",
    "del_labels = np.where(SCP_np < 3)\n",
    "del_labels = del_labels[0]\n",
    "df_scp = df_scp.drop(del_labels)\n",
    "# 将需求存入文件\n",
    "df_scp.to_csv('data/df_scp.csv') "
   ]
  },
  {
   "cell_type": "code",
   "execution_count": 16,
   "metadata": {},
   "outputs": [
    {
     "name": "stdout",
     "output_type": "stream",
     "text": [
      "需求分数小于1.5的占比：7.0393374741200825%\n",
      "需求分数小于2.5的占比：20.28985507246377%\n",
      "需求分数小于3的占比：28.867199053534456%\n",
      "需求分数小于4的占比：43.0050280981958%\n",
      "需求分数小于5的占比：54.037267080745345%\n"
     ]
    }
   ],
   "source": [
    "#t\n",
    "print('需求分数小于1.5的占比：'+str(sum(SCP_np < 1.5)*100/len(SCP_np))+'%')\n",
    "print('需求分数小于2.5的占比：'+str(sum(SCP_np < 2.5)*100/len(SCP_np))+'%')\n",
    "print('需求分数小于3的占比：'+str(sum(SCP_np < 3)*100/len(SCP_np))+'%')\n",
    "print('需求分数小于4的占比：'+str(sum(SCP_np < 4)*100/len(SCP_np))+'%')\n",
    "print('需求分数小于5的占比：'+str(sum(SCP_np < 5)*100/len(SCP_np))+'%')"
   ]
  },
  {
   "cell_type": "code",
   "execution_count": 18,
   "metadata": {},
   "outputs": [],
   "source": [
    "# 读取df_scp\n",
    "def str_to_np(df_scp_0): #将df_scp中地址转换为numpy数组\n",
    "    scp_0_array = np.zeros((len(df_scp_0), 2))\n",
    "    it = 0\n",
    "    for df_0 in df_scp_0:\n",
    "        str_temp = df_0[1:-1].strip().split(' ')\n",
    "        if len(str_temp) > 2:\n",
    "            str_temp[1] = str_temp[2]\n",
    "            del str_temp[2]\n",
    "        str_temp[0] = int(str_temp[0])\n",
    "        str_temp[1] = int(str_temp[1])\n",
    "        scp_0_array[it] = [str_temp[0], str_temp[1]]\n",
    "        it += 1\n",
    "    return scp_0_array\n",
    "\n",
    "df_scp = pd.read_csv('data/df_scp.csv', engine='python')\n",
    "df_scp.drop(df_scp.columns[0], axis=1, inplace=True) # 删除第一列\n",
    "np_df_scp_addr = str_to_np(df_scp['addr']) # 需求点地址numpy数组\n",
    "np_df_scp_scp = np.asarray(df_scp['scp']) # 需求点分数的numpy数组"
   ]
  },
  {
   "cell_type": "code",
   "execution_count": 19,
   "metadata": {},
   "outputs": [
    {
     "data": {
      "image/png": "[encoded data removed]",
      "text/plain": [
       "<matplotlib.figure.Figure at 0x7f6e8ec4ba58>"
      ]
     },
     "metadata": {},
     "output_type": "display_data"
    }
   ],
   "source": [
    "#t 需求点分布\n",
    "plt.figure(figsize=(10,10))\n",
    "plt.plot([x[0] for x in np_df_scp_addr], [x[1] for x in np_df_scp_addr], '.')\n",
    "plt.show()"
   ]
  },
  {
   "cell_type": "code",
   "execution_count": 26,
   "metadata": {
    "scrolled": false
   },
   "outputs": [
    {
     "data": {
      "image/png": "[encoded data removed]",
      "text/plain": [
       "<matplotlib.figure.Figure at 0x7f6e988c6cc0>"
      ]
     },
     "metadata": {},
     "output_type": "display_data"
    }
   ],
   "source": [
    "# 聚类 np_df_scp_addr np_df_scp_scp\n",
    "# num_cluster = 10 #聚类中心的个数\n",
    "\n",
    "def cal_dis(addr, centroid):\n",
    "    distence_1 = np.sum(np.sqrt(np.sum(np.square(addr-centroid), axis=1)))\n",
    "    return distence_1\n",
    "                            \n",
    "# 聚类\n",
    "def clustering(num_cluster):\n",
    "    #随机从需求点中选取num_cluster个初始聚类中心\n",
    "    cluster_centroids_index = np.random.choice(a=np.arange(len(np_df_scp_addr)), size=num_cluster, replace=False)\n",
    "    cluster_centroids = np.asarray([np_df_scp_addr[i] for i in cluster_centroids_index])\n",
    "    #print(cluster_centroids)\n",
    "    cluster_rounds = 0 # 聚类次数\n",
    "    sse = 0 # 不平衡度\n",
    "    while cluster_rounds < 30:\n",
    "        sse = 0\n",
    "        np_df_scp_centroids = assign(np_df_scp_addr, cluster_centroids) # 计算每个点的聚类中心\n",
    "        # 更新聚类中心\n",
    "        new_cluster_centroids = np.zeros((num_cluster, 2))\n",
    "        it_ncc = 0\n",
    "        for centroid in cluster_centroids:\n",
    "            # 取出属于同一聚类中心的点的索引\n",
    "            index = []\n",
    "            for i in range(len(np_df_scp_centroids)):\n",
    "                if np_df_scp_centroids[i][0] == centroid[0] and np_df_scp_centroids[i][1] == centroid[1]:\n",
    "                    index.append(i)\n",
    "            addr_temp = np.zeros((len(index), 2))# 簇集合\n",
    "            it_at = 0\n",
    "            for i in index:\n",
    "                addr_temp[it_at] = np_df_scp_addr[i]\n",
    "                it_at += 1\n",
    "            addr_temp = np.asarray(addr_temp)\n",
    "            sse += cal_dis(addr_temp, centroid)# 计算不平衡度\n",
    "            new_cluster_centroids[it_ncc] = np.mean(addr_temp, axis=0)\n",
    "            it_ncc += 1\n",
    "        cluster_centroids = np.asarray(new_cluster_centroids)\n",
    "        cluster_rounds += 1\n",
    "    #print(cluster_centroids)\n",
    "    return sse    \n",
    "\n",
    "# 计算每个点到聚类中心的距离，并存入np_df_scp_centroids\n",
    "def assign(np_df_scp_addr, centroids):\n",
    "    np_df_scp_centroids = np.zeros((len(np_df_scp_addr), 2))\n",
    "    it_ndsc = 0\n",
    "    for addr in np_df_scp_addr:\n",
    "        distence = np.sqrt(np.sum(np.square(addr-centroids), axis=1))\n",
    "        np_df_scp_centroids[it_ndsc] = centroids[np.argmin(distence)]\n",
    "        it_ndsc += 1\n",
    "    return np_df_scp_centroids\n",
    "            \n",
    "\n",
    "def sse():\n",
    "    sse = []\n",
    "    for k in range(2, 15):\n",
    "        sse.append(clustering(k))\n",
    "    return sse\n",
    "\n",
    "x = np.arange(2, 15)\n",
    "plt.figure(size())\n",
    "plt.plot(x, sse())\n",
    "plt.show()"
   ]
  },
  {
   "cell_type": "code",
   "execution_count": 18,
   "metadata": {},
   "outputs": [
    {
     "name": "stdout",
     "output_type": "stream",
     "text": [
      "[3. 4.]\n",
      "(3, 2)\n"
     ]
    }
   ],
   "source": [
    "a = np.asarray([[1,2],[3,4],[5,6]])\n",
    "b = np.asarray([[1,3]])\n",
    "print(np.mean(a,axis=0))\n",
    "print(a.shape)"
   ]
  },
  {
   "cell_type": "markdown",
   "metadata": {},
   "source": [
    "## 调整充电热区，确定充电站候选区域"
   ]
  },
  {
   "cell_type": "markdown",
   "metadata": {},
   "source": [
    "总体方法为融合较小的簇、分割较大的簇，具体步骤如下：\n",
    "1. 计算充电热区的半径和充电热区之间的距离矩阵；\n",
    "2. 若某一充电热区和其他充电热区的距离小于r，则以半径r合并充电热区，其中r与电动汽车充满电的续航里程相关，r是为了保证电动汽车的剩余电量可以支撑其行驶到充电站，根据历史数据中电动汽车在该区域的平均剩余电量，可以利用现有方法估算行驶里程l，则$r=l$\n",
    "3. 若充电热区的半径大于阈值r则在该热区内再次运行K-means算法划分新的充电热区，重复步骤1；\n",
    "4. 得到充电站候选区域集合。"
   ]
  },
  {
   "cell_type": "code",
   "execution_count": null,
   "metadata": {},
   "outputs": [],
   "source": [
    "# "
   ]
  },
  {
   "cell_type": "markdown",
   "metadata": {},
   "source": [
    "## 确定充电站内的充电桩数量"
   ]
  },
  {
   "cell_type": "markdown",
   "metadata": {},
   "source": [
    "1. 统计候选区域内候选点的停留时长及其时间段（每小时为1个时间段）；\n",
    "2. 将停留时长除以3作为该候选点在其停留时间段的充电需求值； \n",
    "3. 统计候选区域内所有时间段的充电需求和，将其作为候选区域的充电桩数量。"
   ]
  },
  {
   "cell_type": "code",
   "execution_count": null,
   "metadata": {},
   "outputs": [],
   "source": [
    "#"
   ]
  },
  {
   "cell_type": "markdown",
   "metadata": {},
   "source": [
    "## 利用遗传算法实现最优布局"
   ]
  },
  {
   "cell_type": "markdown",
   "metadata": {},
   "source": [
    "1. 创建初始种群，在遗传算法中，使用固定长度的二进制串来表示群体中的个体，将n个候选点编号为1-n，并根据是否设置充电站，将染色体上的基因进行编码，由{0，1}组成，0表示不设置充电站，1表示设置充电站；\n",
    "2. 设置种群的个体适应度函数，个体适应度函数是布局目标的数学表达，考虑两个因素——用户和管理者因素，具体为用户的时间费用（平均行驶时间、充电排队时间）、管理者的建站费用（充电站的个数），公式如下：\n",
    "$$S=\\sum_{i\\epsilon C}(\\frac{\\lambda_1}{num_j}\\sum_{j\\epsilon C_i}(t_{j1}+t_{j2})+\\lambda_2\\frac{1}{num_i})$$\n",
    "其中，$C$表示充电站集合，表示第$i$个充电站，$j$表示选择作为充电目标的电动汽车，$t_{j1}$表示行驶时间，$t_{j2}$表示排队时间，$num_j$和$num_i$分别表示充电站的个数和选择此充电站的电动汽车个数，$\\lambda_1$和$\\lambda_2$代表用户时间费用和管理者建站费用的系数，通过实验得出，因此，布局目标是用户到达最近充电站的耗时和成电站个数最少。\n",
    "3. 执行遗传算子不断迭代得到最终解；"
   ]
  },
  {
   "cell_type": "code",
   "execution_count": null,
   "metadata": {},
   "outputs": [],
   "source": [
    "# "
   ]
  }
 ],
 "metadata": {
  "kernelspec": {
   "display_name": "Python 3",
   "language": "python",
   "name": "python3"
  },
  "language_info": {
   "codemirror_mode": {
    "name": "ipython",
    "version": 3
   },
   "file_extension": ".py",
   "mimetype": "text/x-python",
   "name": "python",
   "nbconvert_exporter": "python",
   "pygments_lexer": "ipython3",
   "version": "3.6.4"
  },
  "toc": {
   "base_numbering": 1,
   "nav_menu": {},
   "number_sections": true,
   "sideBar": true,
   "skip_h1_title": false,
   "title_cell": "Table of Contents",
   "title_sidebar": "Contents",
   "toc_cell": false,
   "toc_position": {
    "height": "calc(100% - 180px)",
    "left": "10px",
    "top": "150px",
    "width": "328px"
   },
   "toc_section_display": true,
   "toc_window_display": true
  },
  "varInspector": {
   "cols": {
    "lenName": 16,
    "lenType": 16,
    "lenVar": 40
   },
   "kernels_config": {
    "python": {
     "delete_cmd_postfix": "",
     "delete_cmd_prefix": "del ",
     "library": "var_list.py",
     "varRefreshCmd": "print(var_dic_list())"
    },
    "r": {
     "delete_cmd_postfix": ") ",
     "delete_cmd_prefix": "rm(",
     "library": "var_list.r",
     "varRefreshCmd": "cat(var_dic_list()) "
    }
   },
   "types_to_exclude": [
    "module",
    "function",
    "builtin_function_or_method",
    "instance",
    "_Feature"
   ],
   "window_display": false
  }
 },
 "nbformat": 4,
 "nbformat_minor": 2
}
